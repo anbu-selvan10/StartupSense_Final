{
 "cells": [
  {
   "cell_type": "code",
   "execution_count": 1,
   "id": "416e3a73",
   "metadata": {
    "_cell_guid": "b1076dfc-b9ad-4769-8c92-a6c4dae69d19",
    "_uuid": "8f2839f25d086af736a60e9eeb907d3b93b6e0e5",
    "execution": {
     "iopub.execute_input": "2023-04-13T15:54:04.778007Z",
     "iopub.status.busy": "2023-04-13T15:54:04.777613Z",
     "iopub.status.idle": "2023-04-13T15:54:04.796850Z",
     "shell.execute_reply": "2023-04-13T15:54:04.795590Z"
    },
    "papermill": {
     "duration": 0.039774,
     "end_time": "2023-04-13T15:54:04.799676",
     "exception": false,
     "start_time": "2023-04-13T15:54:04.759902",
     "status": "completed"
    },
    "tags": []
   },
   "outputs": [],
   "source": [
    "import numpy as np \n",
    "import pandas as pd\n",
    "import matplotlib.pyplot as plt"
   ]
  },
  {
   "cell_type": "code",
   "execution_count": 2,
   "id": "fd982136",
   "metadata": {
    "execution": {
     "iopub.execute_input": "2023-04-13T15:54:04.832033Z",
     "iopub.status.busy": "2023-04-13T15:54:04.831636Z",
     "iopub.status.idle": "2023-04-13T15:54:04.866533Z",
     "shell.execute_reply": "2023-04-13T15:54:04.865344Z"
    },
    "papermill": {
     "duration": 0.054334,
     "end_time": "2023-04-13T15:54:04.869567",
     "exception": false,
     "start_time": "2023-04-13T15:54:04.815233",
     "status": "completed"
    },
    "tags": []
   },
   "outputs": [],
   "source": [
    "df = pd.read_csv('F:\\\\StartupSense\\\\startup_funding.csv')"
   ]
  },
  {
   "cell_type": "code",
   "execution_count": 3,
   "id": "2c3d1e10",
   "metadata": {
    "execution": {
     "iopub.execute_input": "2023-04-13T15:54:04.902624Z",
     "iopub.status.busy": "2023-04-13T15:54:04.902213Z",
     "iopub.status.idle": "2023-04-13T15:54:04.935607Z",
     "shell.execute_reply": "2023-04-13T15:54:04.934091Z"
    },
    "papermill": {
     "duration": 0.054021,
     "end_time": "2023-04-13T15:54:04.938453",
     "exception": false,
     "start_time": "2023-04-13T15:54:04.884432",
     "status": "completed"
    },
    "tags": []
   },
   "outputs": [
    {
     "data": {
      "text/html": [
       "<div>\n",
       "<style scoped>\n",
       "    .dataframe tbody tr th:only-of-type {\n",
       "        vertical-align: middle;\n",
       "    }\n",
       "\n",
       "    .dataframe tbody tr th {\n",
       "        vertical-align: top;\n",
       "    }\n",
       "\n",
       "    .dataframe thead th {\n",
       "        text-align: right;\n",
       "    }\n",
       "</style>\n",
       "<table border=\"1\" class=\"dataframe\">\n",
       "  <thead>\n",
       "    <tr style=\"text-align: right;\">\n",
       "      <th></th>\n",
       "      <th>Sr No</th>\n",
       "      <th>Date dd/mm/yyyy</th>\n",
       "      <th>Startup Name</th>\n",
       "      <th>Industry Vertical</th>\n",
       "      <th>Sub Vertical</th>\n",
       "      <th>City Location</th>\n",
       "      <th>Investors Name</th>\n",
       "      <th>Investment Type</th>\n",
       "      <th>Amount in USD</th>\n",
       "      <th>Remarks</th>\n",
       "    </tr>\n",
       "  </thead>\n",
       "  <tbody>\n",
       "    <tr>\n",
       "      <th>0</th>\n",
       "      <td>1</td>\n",
       "      <td>09/01/2020</td>\n",
       "      <td>BYJU’S</td>\n",
       "      <td>E-Tech</td>\n",
       "      <td>E-learning</td>\n",
       "      <td>Bengaluru</td>\n",
       "      <td>Tiger Global Management</td>\n",
       "      <td>Private Equity Round</td>\n",
       "      <td>20,00,00,000</td>\n",
       "      <td>NaN</td>\n",
       "    </tr>\n",
       "    <tr>\n",
       "      <th>1</th>\n",
       "      <td>2</td>\n",
       "      <td>13/01/2020</td>\n",
       "      <td>Shuttl</td>\n",
       "      <td>Transportation</td>\n",
       "      <td>App based shuttle service</td>\n",
       "      <td>Gurgaon</td>\n",
       "      <td>Susquehanna Growth Equity</td>\n",
       "      <td>Series C</td>\n",
       "      <td>80,48,394</td>\n",
       "      <td>NaN</td>\n",
       "    </tr>\n",
       "    <tr>\n",
       "      <th>2</th>\n",
       "      <td>3</td>\n",
       "      <td>09/01/2020</td>\n",
       "      <td>Mamaearth</td>\n",
       "      <td>E-commerce</td>\n",
       "      <td>Retailer of baby and toddler products</td>\n",
       "      <td>Bengaluru</td>\n",
       "      <td>Sequoia Capital India</td>\n",
       "      <td>Series B</td>\n",
       "      <td>1,83,58,860</td>\n",
       "      <td>NaN</td>\n",
       "    </tr>\n",
       "    <tr>\n",
       "      <th>3</th>\n",
       "      <td>4</td>\n",
       "      <td>02/01/2020</td>\n",
       "      <td>https://www.wealthbucket.in/</td>\n",
       "      <td>FinTech</td>\n",
       "      <td>Online Investment</td>\n",
       "      <td>New Delhi</td>\n",
       "      <td>Vinod Khatumal</td>\n",
       "      <td>Pre-series A</td>\n",
       "      <td>30,00,000</td>\n",
       "      <td>NaN</td>\n",
       "    </tr>\n",
       "    <tr>\n",
       "      <th>4</th>\n",
       "      <td>5</td>\n",
       "      <td>02/01/2020</td>\n",
       "      <td>Fashor</td>\n",
       "      <td>Fashion and Apparel</td>\n",
       "      <td>Embroiled Clothes For Women</td>\n",
       "      <td>Mumbai</td>\n",
       "      <td>Sprout Venture Partners</td>\n",
       "      <td>Seed Round</td>\n",
       "      <td>18,00,000</td>\n",
       "      <td>NaN</td>\n",
       "    </tr>\n",
       "  </tbody>\n",
       "</table>\n",
       "</div>"
      ],
      "text/plain": [
       "   Sr No Date dd/mm/yyyy                  Startup Name    Industry Vertical  \\\n",
       "0      1      09/01/2020                        BYJU’S               E-Tech   \n",
       "1      2      13/01/2020                        Shuttl       Transportation   \n",
       "2      3      09/01/2020                     Mamaearth           E-commerce   \n",
       "3      4      02/01/2020  https://www.wealthbucket.in/              FinTech   \n",
       "4      5      02/01/2020                        Fashor  Fashion and Apparel   \n",
       "\n",
       "                            Sub Vertical City Location  \\\n",
       "0                             E-learning     Bengaluru   \n",
       "1              App based shuttle service       Gurgaon   \n",
       "2  Retailer of baby and toddler products     Bengaluru   \n",
       "3                      Online Investment     New Delhi   \n",
       "4            Embroiled Clothes For Women        Mumbai   \n",
       "\n",
       "              Investors Name       Investment Type Amount in USD Remarks  \n",
       "0    Tiger Global Management  Private Equity Round  20,00,00,000     NaN  \n",
       "1  Susquehanna Growth Equity              Series C     80,48,394     NaN  \n",
       "2      Sequoia Capital India              Series B   1,83,58,860     NaN  \n",
       "3             Vinod Khatumal          Pre-series A     30,00,000     NaN  \n",
       "4    Sprout Venture Partners            Seed Round     18,00,000     NaN  "
      ]
     },
     "execution_count": 3,
     "metadata": {},
     "output_type": "execute_result"
    }
   ],
   "source": [
    "df.head()"
   ]
  },
  {
   "cell_type": "code",
   "execution_count": 4,
   "id": "70ef6aaf",
   "metadata": {
    "execution": {
     "iopub.execute_input": "2023-04-13T15:54:05.156941Z",
     "iopub.status.busy": "2023-04-13T15:54:05.156526Z",
     "iopub.status.idle": "2023-04-13T15:54:05.162952Z",
     "shell.execute_reply": "2023-04-13T15:54:05.161481Z"
    },
    "papermill": {
     "duration": 0.026936,
     "end_time": "2023-04-13T15:54:05.165535",
     "exception": false,
     "start_time": "2023-04-13T15:54:05.138599",
     "status": "completed"
    },
    "tags": []
   },
   "outputs": [],
   "source": [
    "df['Investors Name']= df['Investors Name'].fillna('Undisclosed')"
   ]
  },
  {
   "cell_type": "code",
   "execution_count": 5,
   "id": "5e172c1a",
   "metadata": {
    "execution": {
     "iopub.execute_input": "2023-04-13T15:54:05.447551Z",
     "iopub.status.busy": "2023-04-13T15:54:05.446850Z",
     "iopub.status.idle": "2023-04-13T15:54:05.453415Z",
     "shell.execute_reply": "2023-04-13T15:54:05.452265Z"
    },
    "papermill": {
     "duration": 0.031352,
     "end_time": "2023-04-13T15:54:05.455938",
     "exception": false,
     "start_time": "2023-04-13T15:54:05.424586",
     "status": "completed"
    },
    "tags": []
   },
   "outputs": [],
   "source": [
    "df.drop(columns=['Remarks'], inplace = True)"
   ]
  },
  {
   "cell_type": "code",
   "execution_count": 6,
   "id": "8c6ec279",
   "metadata": {
    "execution": {
     "iopub.execute_input": "2023-04-13T15:54:05.495787Z",
     "iopub.status.busy": "2023-04-13T15:54:05.495362Z",
     "iopub.status.idle": "2023-04-13T15:54:05.501181Z",
     "shell.execute_reply": "2023-04-13T15:54:05.500057Z"
    },
    "papermill": {
     "duration": 0.028946,
     "end_time": "2023-04-13T15:54:05.503852",
     "exception": false,
     "start_time": "2023-04-13T15:54:05.474906",
     "status": "completed"
    },
    "tags": []
   },
   "outputs": [],
   "source": [
    "df.set_index('Sr No', inplace = True)"
   ]
  },
  {
   "cell_type": "code",
   "execution_count": 7,
   "id": "87ffdd1b",
   "metadata": {
    "execution": {
     "iopub.execute_input": "2023-04-13T15:54:05.544052Z",
     "iopub.status.busy": "2023-04-13T15:54:05.542886Z",
     "iopub.status.idle": "2023-04-13T15:54:05.559374Z",
     "shell.execute_reply": "2023-04-13T15:54:05.558096Z"
    },
    "papermill": {
     "duration": 0.039115,
     "end_time": "2023-04-13T15:54:05.561972",
     "exception": false,
     "start_time": "2023-04-13T15:54:05.522857",
     "status": "completed"
    },
    "tags": []
   },
   "outputs": [
    {
     "data": {
      "text/html": [
       "<div>\n",
       "<style scoped>\n",
       "    .dataframe tbody tr th:only-of-type {\n",
       "        vertical-align: middle;\n",
       "    }\n",
       "\n",
       "    .dataframe tbody tr th {\n",
       "        vertical-align: top;\n",
       "    }\n",
       "\n",
       "    .dataframe thead th {\n",
       "        text-align: right;\n",
       "    }\n",
       "</style>\n",
       "<table border=\"1\" class=\"dataframe\">\n",
       "  <thead>\n",
       "    <tr style=\"text-align: right;\">\n",
       "      <th></th>\n",
       "      <th>Date dd/mm/yyyy</th>\n",
       "      <th>Startup Name</th>\n",
       "      <th>Industry Vertical</th>\n",
       "      <th>Sub Vertical</th>\n",
       "      <th>City Location</th>\n",
       "      <th>Investors Name</th>\n",
       "      <th>Investment Type</th>\n",
       "      <th>Amount in USD</th>\n",
       "    </tr>\n",
       "    <tr>\n",
       "      <th>Sr No</th>\n",
       "      <th></th>\n",
       "      <th></th>\n",
       "      <th></th>\n",
       "      <th></th>\n",
       "      <th></th>\n",
       "      <th></th>\n",
       "      <th></th>\n",
       "      <th></th>\n",
       "    </tr>\n",
       "  </thead>\n",
       "  <tbody>\n",
       "    <tr>\n",
       "      <th>1</th>\n",
       "      <td>09/01/2020</td>\n",
       "      <td>BYJU’S</td>\n",
       "      <td>E-Tech</td>\n",
       "      <td>E-learning</td>\n",
       "      <td>Bengaluru</td>\n",
       "      <td>Tiger Global Management</td>\n",
       "      <td>Private Equity Round</td>\n",
       "      <td>20,00,00,000</td>\n",
       "    </tr>\n",
       "    <tr>\n",
       "      <th>2</th>\n",
       "      <td>13/01/2020</td>\n",
       "      <td>Shuttl</td>\n",
       "      <td>Transportation</td>\n",
       "      <td>App based shuttle service</td>\n",
       "      <td>Gurgaon</td>\n",
       "      <td>Susquehanna Growth Equity</td>\n",
       "      <td>Series C</td>\n",
       "      <td>80,48,394</td>\n",
       "    </tr>\n",
       "  </tbody>\n",
       "</table>\n",
       "</div>"
      ],
      "text/plain": [
       "      Date dd/mm/yyyy Startup Name Industry Vertical  \\\n",
       "Sr No                                                  \n",
       "1          09/01/2020       BYJU’S            E-Tech   \n",
       "2          13/01/2020       Shuttl    Transportation   \n",
       "\n",
       "                    Sub Vertical City Location             Investors Name  \\\n",
       "Sr No                                                                       \n",
       "1                     E-learning     Bengaluru    Tiger Global Management   \n",
       "2      App based shuttle service       Gurgaon  Susquehanna Growth Equity   \n",
       "\n",
       "            Investment Type Amount in USD  \n",
       "Sr No                                      \n",
       "1      Private Equity Round  20,00,00,000  \n",
       "2                  Series C     80,48,394  "
      ]
     },
     "execution_count": 7,
     "metadata": {},
     "output_type": "execute_result"
    }
   ],
   "source": [
    "df.head(2)"
   ]
  },
  {
   "cell_type": "code",
   "execution_count": 8,
   "id": "99f0dacb",
   "metadata": {
    "execution": {
     "iopub.execute_input": "2023-04-13T15:54:05.601900Z",
     "iopub.status.busy": "2023-04-13T15:54:05.601467Z",
     "iopub.status.idle": "2023-04-13T15:54:05.610572Z",
     "shell.execute_reply": "2023-04-13T15:54:05.608835Z"
    },
    "papermill": {
     "duration": 0.032259,
     "end_time": "2023-04-13T15:54:05.613614",
     "exception": false,
     "start_time": "2023-04-13T15:54:05.581355",
     "status": "completed"
    },
    "tags": []
   },
   "outputs": [],
   "source": [
    "df.rename(columns={\n",
    "    'Date dd/mm/yyyy':'Date',\n",
    "    'Startup Name':'Startup',\n",
    "    'Industry Vertical':'Vertical',\n",
    "    'Sub Vertical':'Subvertical',\n",
    "    'City Location':'City',\n",
    "    'Investors Name':'Investors',\n",
    "    'Investment Type':'Round',\n",
    "    'Amount in USD':'Amount'    \n",
    "},inplace=True)"
   ]
  },
  {
   "cell_type": "code",
   "execution_count": 9,
   "id": "db807386",
   "metadata": {
    "execution": {
     "iopub.execute_input": "2023-04-13T15:54:05.661885Z",
     "iopub.status.busy": "2023-04-13T15:54:05.661475Z",
     "iopub.status.idle": "2023-04-13T15:54:05.677147Z",
     "shell.execute_reply": "2023-04-13T15:54:05.675959Z"
    },
    "papermill": {
     "duration": 0.043712,
     "end_time": "2023-04-13T15:54:05.679586",
     "exception": false,
     "start_time": "2023-04-13T15:54:05.635874",
     "status": "completed"
    },
    "tags": []
   },
   "outputs": [
    {
     "data": {
      "text/html": [
       "<div>\n",
       "<style scoped>\n",
       "    .dataframe tbody tr th:only-of-type {\n",
       "        vertical-align: middle;\n",
       "    }\n",
       "\n",
       "    .dataframe tbody tr th {\n",
       "        vertical-align: top;\n",
       "    }\n",
       "\n",
       "    .dataframe thead th {\n",
       "        text-align: right;\n",
       "    }\n",
       "</style>\n",
       "<table border=\"1\" class=\"dataframe\">\n",
       "  <thead>\n",
       "    <tr style=\"text-align: right;\">\n",
       "      <th></th>\n",
       "      <th>Date</th>\n",
       "      <th>Startup</th>\n",
       "      <th>Vertical</th>\n",
       "      <th>Subvertical</th>\n",
       "      <th>City</th>\n",
       "      <th>Investors</th>\n",
       "      <th>Round</th>\n",
       "      <th>Amount</th>\n",
       "    </tr>\n",
       "    <tr>\n",
       "      <th>Sr No</th>\n",
       "      <th></th>\n",
       "      <th></th>\n",
       "      <th></th>\n",
       "      <th></th>\n",
       "      <th></th>\n",
       "      <th></th>\n",
       "      <th></th>\n",
       "      <th></th>\n",
       "    </tr>\n",
       "  </thead>\n",
       "  <tbody>\n",
       "    <tr>\n",
       "      <th>1</th>\n",
       "      <td>09/01/2020</td>\n",
       "      <td>BYJU’S</td>\n",
       "      <td>E-Tech</td>\n",
       "      <td>E-learning</td>\n",
       "      <td>Bengaluru</td>\n",
       "      <td>Tiger Global Management</td>\n",
       "      <td>Private Equity Round</td>\n",
       "      <td>20,00,00,000</td>\n",
       "    </tr>\n",
       "    <tr>\n",
       "      <th>2</th>\n",
       "      <td>13/01/2020</td>\n",
       "      <td>Shuttl</td>\n",
       "      <td>Transportation</td>\n",
       "      <td>App based shuttle service</td>\n",
       "      <td>Gurgaon</td>\n",
       "      <td>Susquehanna Growth Equity</td>\n",
       "      <td>Series C</td>\n",
       "      <td>80,48,394</td>\n",
       "    </tr>\n",
       "    <tr>\n",
       "      <th>3</th>\n",
       "      <td>09/01/2020</td>\n",
       "      <td>Mamaearth</td>\n",
       "      <td>E-commerce</td>\n",
       "      <td>Retailer of baby and toddler products</td>\n",
       "      <td>Bengaluru</td>\n",
       "      <td>Sequoia Capital India</td>\n",
       "      <td>Series B</td>\n",
       "      <td>1,83,58,860</td>\n",
       "    </tr>\n",
       "    <tr>\n",
       "      <th>4</th>\n",
       "      <td>02/01/2020</td>\n",
       "      <td>https://www.wealthbucket.in/</td>\n",
       "      <td>FinTech</td>\n",
       "      <td>Online Investment</td>\n",
       "      <td>New Delhi</td>\n",
       "      <td>Vinod Khatumal</td>\n",
       "      <td>Pre-series A</td>\n",
       "      <td>30,00,000</td>\n",
       "    </tr>\n",
       "    <tr>\n",
       "      <th>5</th>\n",
       "      <td>02/01/2020</td>\n",
       "      <td>Fashor</td>\n",
       "      <td>Fashion and Apparel</td>\n",
       "      <td>Embroiled Clothes For Women</td>\n",
       "      <td>Mumbai</td>\n",
       "      <td>Sprout Venture Partners</td>\n",
       "      <td>Seed Round</td>\n",
       "      <td>18,00,000</td>\n",
       "    </tr>\n",
       "    <tr>\n",
       "      <th>6</th>\n",
       "      <td>13/01/2020</td>\n",
       "      <td>Pando</td>\n",
       "      <td>Logistics</td>\n",
       "      <td>Open-market, freight management platform</td>\n",
       "      <td>Chennai</td>\n",
       "      <td>Chiratae Ventures</td>\n",
       "      <td>Series A</td>\n",
       "      <td>90,00,000</td>\n",
       "    </tr>\n",
       "    <tr>\n",
       "      <th>7</th>\n",
       "      <td>10/01/2020</td>\n",
       "      <td>Zomato</td>\n",
       "      <td>Hospitality</td>\n",
       "      <td>Online Food Delivery Platform</td>\n",
       "      <td>Gurgaon</td>\n",
       "      <td>Ant Financial</td>\n",
       "      <td>Private Equity Round</td>\n",
       "      <td>15,00,00,000</td>\n",
       "    </tr>\n",
       "    <tr>\n",
       "      <th>8</th>\n",
       "      <td>12/12/2019</td>\n",
       "      <td>Ecozen</td>\n",
       "      <td>Technology</td>\n",
       "      <td>Agritech</td>\n",
       "      <td>Pune</td>\n",
       "      <td>Sathguru Catalyzer Advisors</td>\n",
       "      <td>Series A</td>\n",
       "      <td>60,00,000</td>\n",
       "    </tr>\n",
       "    <tr>\n",
       "      <th>9</th>\n",
       "      <td>06/12/2019</td>\n",
       "      <td>CarDekho</td>\n",
       "      <td>E-Commerce</td>\n",
       "      <td>Automobile</td>\n",
       "      <td>Gurgaon</td>\n",
       "      <td>Ping An Global Voyager Fund</td>\n",
       "      <td>Series D</td>\n",
       "      <td>7,00,00,000</td>\n",
       "    </tr>\n",
       "    <tr>\n",
       "      <th>10</th>\n",
       "      <td>03/12/2019</td>\n",
       "      <td>Dhruva Space</td>\n",
       "      <td>Aerospace</td>\n",
       "      <td>Satellite Communication</td>\n",
       "      <td>Bengaluru</td>\n",
       "      <td>Mumbai Angels, Ravikanth Reddy</td>\n",
       "      <td>Seed</td>\n",
       "      <td>5,00,00,000</td>\n",
       "    </tr>\n",
       "  </tbody>\n",
       "</table>\n",
       "</div>"
      ],
      "text/plain": [
       "             Date                       Startup             Vertical  \\\n",
       "Sr No                                                                  \n",
       "1      09/01/2020                        BYJU’S               E-Tech   \n",
       "2      13/01/2020                        Shuttl       Transportation   \n",
       "3      09/01/2020                     Mamaearth           E-commerce   \n",
       "4      02/01/2020  https://www.wealthbucket.in/              FinTech   \n",
       "5      02/01/2020                        Fashor  Fashion and Apparel   \n",
       "6      13/01/2020                         Pando            Logistics   \n",
       "7      10/01/2020                        Zomato          Hospitality   \n",
       "8      12/12/2019                        Ecozen           Technology   \n",
       "9      06/12/2019                      CarDekho           E-Commerce   \n",
       "10     03/12/2019                  Dhruva Space            Aerospace   \n",
       "\n",
       "                                    Subvertical       City  \\\n",
       "Sr No                                                        \n",
       "1                                    E-learning  Bengaluru   \n",
       "2                     App based shuttle service    Gurgaon   \n",
       "3         Retailer of baby and toddler products  Bengaluru   \n",
       "4                             Online Investment  New Delhi   \n",
       "5                   Embroiled Clothes For Women     Mumbai   \n",
       "6      Open-market, freight management platform    Chennai   \n",
       "7                 Online Food Delivery Platform    Gurgaon   \n",
       "8                                      Agritech       Pune   \n",
       "9                                    Automobile    Gurgaon   \n",
       "10                      Satellite Communication  Bengaluru   \n",
       "\n",
       "                            Investors                 Round        Amount  \n",
       "Sr No                                                                      \n",
       "1             Tiger Global Management  Private Equity Round  20,00,00,000  \n",
       "2           Susquehanna Growth Equity              Series C     80,48,394  \n",
       "3               Sequoia Capital India              Series B   1,83,58,860  \n",
       "4                      Vinod Khatumal          Pre-series A     30,00,000  \n",
       "5             Sprout Venture Partners            Seed Round     18,00,000  \n",
       "6                   Chiratae Ventures              Series A     90,00,000  \n",
       "7                       Ant Financial  Private Equity Round  15,00,00,000  \n",
       "8         Sathguru Catalyzer Advisors              Series A     60,00,000  \n",
       "9         Ping An Global Voyager Fund              Series D   7,00,00,000  \n",
       "10     Mumbai Angels, Ravikanth Reddy                  Seed   5,00,00,000  "
      ]
     },
     "execution_count": 9,
     "metadata": {},
     "output_type": "execute_result"
    }
   ],
   "source": [
    "df.head(10)"
   ]
  },
  {
   "cell_type": "code",
   "execution_count": 10,
   "id": "2961a3f0",
   "metadata": {
    "execution": {
     "iopub.execute_input": "2023-04-13T15:54:05.767773Z",
     "iopub.status.busy": "2023-04-13T15:54:05.766870Z",
     "iopub.status.idle": "2023-04-13T15:54:05.773350Z",
     "shell.execute_reply": "2023-04-13T15:54:05.772300Z"
    },
    "papermill": {
     "duration": 0.029499,
     "end_time": "2023-04-13T15:54:05.775948",
     "exception": false,
     "start_time": "2023-04-13T15:54:05.746449",
     "status": "completed"
    },
    "tags": []
   },
   "outputs": [],
   "source": [
    "df['Amount'] = df['Amount'].fillna('0')"
   ]
  },
  {
   "cell_type": "code",
   "execution_count": 11,
   "id": "979e03f2",
   "metadata": {
    "execution": {
     "iopub.execute_input": "2023-04-13T15:54:06.005651Z",
     "iopub.status.busy": "2023-04-13T15:54:06.004664Z",
     "iopub.status.idle": "2023-04-13T15:54:06.022950Z",
     "shell.execute_reply": "2023-04-13T15:54:06.021674Z"
    },
    "papermill": {
     "duration": 0.04175,
     "end_time": "2023-04-13T15:54:06.025791",
     "exception": false,
     "start_time": "2023-04-13T15:54:05.984041",
     "status": "completed"
    },
    "tags": []
   },
   "outputs": [],
   "source": [
    "df['Amount'] = df['Amount'].str.replace(',','')\n",
    "df['Amount'] = df['Amount'].str.replace('undisclosed','0')\n",
    "df['Amount'] = df['Amount'].str.replace('unknown','0')\n",
    "df['Amount'] = df['Amount'].str.replace('Undisclosed','0')"
   ]
  },
  {
   "cell_type": "code",
   "execution_count": 12,
   "id": "be0e98d7",
   "metadata": {
    "execution": {
     "iopub.execute_input": "2023-04-13T15:54:06.066981Z",
     "iopub.status.busy": "2023-04-13T15:54:06.066116Z",
     "iopub.status.idle": "2023-04-13T15:54:06.074089Z",
     "shell.execute_reply": "2023-04-13T15:54:06.073040Z"
    },
    "papermill": {
     "duration": 0.030648,
     "end_time": "2023-04-13T15:54:06.076551",
     "exception": false,
     "start_time": "2023-04-13T15:54:06.045903",
     "status": "completed"
    },
    "tags": []
   },
   "outputs": [],
   "source": [
    "df = df[df['Amount'].str.isdigit()]"
   ]
  },
  {
   "cell_type": "code",
   "execution_count": 13,
   "id": "3741b5c1",
   "metadata": {
    "execution": {
     "iopub.execute_input": "2023-04-13T15:54:06.117149Z",
     "iopub.status.busy": "2023-04-13T15:54:06.116637Z",
     "iopub.status.idle": "2023-04-13T15:54:06.124299Z",
     "shell.execute_reply": "2023-04-13T15:54:06.123384Z"
    },
    "papermill": {
     "duration": 0.030847,
     "end_time": "2023-04-13T15:54:06.126692",
     "exception": false,
     "start_time": "2023-04-13T15:54:06.095845",
     "status": "completed"
    },
    "tags": []
   },
   "outputs": [],
   "source": [
    "df['Amount'] = df['Amount'].astype('float')"
   ]
  },
  {
   "cell_type": "code",
   "execution_count": 14,
   "id": "1c3012d6",
   "metadata": {
    "execution": {
     "iopub.execute_input": "2023-04-13T15:54:06.166507Z",
     "iopub.status.busy": "2023-04-13T15:54:06.166044Z",
     "iopub.status.idle": "2023-04-13T15:54:06.180266Z",
     "shell.execute_reply": "2023-04-13T15:54:06.179278Z"
    },
    "papermill": {
     "duration": 0.037274,
     "end_time": "2023-04-13T15:54:06.182873",
     "exception": false,
     "start_time": "2023-04-13T15:54:06.145599",
     "status": "completed"
    },
    "tags": []
   },
   "outputs": [
    {
     "name": "stdout",
     "output_type": "stream",
     "text": [
      "<class 'pandas.core.frame.DataFrame'>\n",
      "Int64Index: 3029 entries, 1 to 3044\n",
      "Data columns (total 8 columns):\n",
      " #   Column       Non-Null Count  Dtype  \n",
      "---  ------       --------------  -----  \n",
      " 0   Date         3029 non-null   object \n",
      " 1   Startup      3029 non-null   object \n",
      " 2   Vertical     2858 non-null   object \n",
      " 3   Subvertical  2104 non-null   object \n",
      " 4   City         2849 non-null   object \n",
      " 5   Investors    3029 non-null   object \n",
      " 6   Round        3027 non-null   object \n",
      " 7   Amount       3029 non-null   float64\n",
      "dtypes: float64(1), object(7)\n",
      "memory usage: 213.0+ KB\n"
     ]
    }
   ],
   "source": [
    "df.info()"
   ]
  },
  {
   "cell_type": "code",
   "execution_count": 15,
   "id": "cd1c3f44",
   "metadata": {
    "execution": {
     "iopub.execute_input": "2023-04-13T15:54:06.226033Z",
     "iopub.status.busy": "2023-04-13T15:54:06.225637Z",
     "iopub.status.idle": "2023-04-13T15:54:06.242589Z",
     "shell.execute_reply": "2023-04-13T15:54:06.241508Z"
    },
    "papermill": {
     "duration": 0.043853,
     "end_time": "2023-04-13T15:54:06.245949",
     "exception": false,
     "start_time": "2023-04-13T15:54:06.202096",
     "status": "completed"
    },
    "tags": []
   },
   "outputs": [
    {
     "data": {
      "text/html": [
       "<div>\n",
       "<style scoped>\n",
       "    .dataframe tbody tr th:only-of-type {\n",
       "        vertical-align: middle;\n",
       "    }\n",
       "\n",
       "    .dataframe tbody tr th {\n",
       "        vertical-align: top;\n",
       "    }\n",
       "\n",
       "    .dataframe thead th {\n",
       "        text-align: right;\n",
       "    }\n",
       "</style>\n",
       "<table border=\"1\" class=\"dataframe\">\n",
       "  <thead>\n",
       "    <tr style=\"text-align: right;\">\n",
       "      <th></th>\n",
       "      <th>Date</th>\n",
       "      <th>Startup</th>\n",
       "      <th>Vertical</th>\n",
       "      <th>Subvertical</th>\n",
       "      <th>City</th>\n",
       "      <th>Investors</th>\n",
       "      <th>Round</th>\n",
       "      <th>Amount</th>\n",
       "    </tr>\n",
       "    <tr>\n",
       "      <th>Sr No</th>\n",
       "      <th></th>\n",
       "      <th></th>\n",
       "      <th></th>\n",
       "      <th></th>\n",
       "      <th></th>\n",
       "      <th></th>\n",
       "      <th></th>\n",
       "      <th></th>\n",
       "    </tr>\n",
       "  </thead>\n",
       "  <tbody>\n",
       "    <tr>\n",
       "      <th>1</th>\n",
       "      <td>09/01/2020</td>\n",
       "      <td>BYJU’S</td>\n",
       "      <td>E-Tech</td>\n",
       "      <td>E-learning</td>\n",
       "      <td>Bengaluru</td>\n",
       "      <td>Tiger Global Management</td>\n",
       "      <td>Private Equity Round</td>\n",
       "      <td>200000000.0</td>\n",
       "    </tr>\n",
       "    <tr>\n",
       "      <th>2</th>\n",
       "      <td>13/01/2020</td>\n",
       "      <td>Shuttl</td>\n",
       "      <td>Transportation</td>\n",
       "      <td>App based shuttle service</td>\n",
       "      <td>Gurgaon</td>\n",
       "      <td>Susquehanna Growth Equity</td>\n",
       "      <td>Series C</td>\n",
       "      <td>8048394.0</td>\n",
       "    </tr>\n",
       "    <tr>\n",
       "      <th>3</th>\n",
       "      <td>09/01/2020</td>\n",
       "      <td>Mamaearth</td>\n",
       "      <td>E-commerce</td>\n",
       "      <td>Retailer of baby and toddler products</td>\n",
       "      <td>Bengaluru</td>\n",
       "      <td>Sequoia Capital India</td>\n",
       "      <td>Series B</td>\n",
       "      <td>18358860.0</td>\n",
       "    </tr>\n",
       "    <tr>\n",
       "      <th>4</th>\n",
       "      <td>02/01/2020</td>\n",
       "      <td>https://www.wealthbucket.in/</td>\n",
       "      <td>FinTech</td>\n",
       "      <td>Online Investment</td>\n",
       "      <td>New Delhi</td>\n",
       "      <td>Vinod Khatumal</td>\n",
       "      <td>Pre-series A</td>\n",
       "      <td>3000000.0</td>\n",
       "    </tr>\n",
       "    <tr>\n",
       "      <th>5</th>\n",
       "      <td>02/01/2020</td>\n",
       "      <td>Fashor</td>\n",
       "      <td>Fashion and Apparel</td>\n",
       "      <td>Embroiled Clothes For Women</td>\n",
       "      <td>Mumbai</td>\n",
       "      <td>Sprout Venture Partners</td>\n",
       "      <td>Seed Round</td>\n",
       "      <td>1800000.0</td>\n",
       "    </tr>\n",
       "  </tbody>\n",
       "</table>\n",
       "</div>"
      ],
      "text/plain": [
       "             Date                       Startup             Vertical  \\\n",
       "Sr No                                                                  \n",
       "1      09/01/2020                        BYJU’S               E-Tech   \n",
       "2      13/01/2020                        Shuttl       Transportation   \n",
       "3      09/01/2020                     Mamaearth           E-commerce   \n",
       "4      02/01/2020  https://www.wealthbucket.in/              FinTech   \n",
       "5      02/01/2020                        Fashor  Fashion and Apparel   \n",
       "\n",
       "                                 Subvertical       City  \\\n",
       "Sr No                                                     \n",
       "1                                 E-learning  Bengaluru   \n",
       "2                  App based shuttle service    Gurgaon   \n",
       "3      Retailer of baby and toddler products  Bengaluru   \n",
       "4                          Online Investment  New Delhi   \n",
       "5                Embroiled Clothes For Women     Mumbai   \n",
       "\n",
       "                       Investors                 Round       Amount  \n",
       "Sr No                                                                \n",
       "1        Tiger Global Management  Private Equity Round  200000000.0  \n",
       "2      Susquehanna Growth Equity              Series C    8048394.0  \n",
       "3          Sequoia Capital India              Series B   18358860.0  \n",
       "4                 Vinod Khatumal          Pre-series A    3000000.0  \n",
       "5        Sprout Venture Partners            Seed Round    1800000.0  "
      ]
     },
     "execution_count": 15,
     "metadata": {},
     "output_type": "execute_result"
    }
   ],
   "source": [
    "df.head()"
   ]
  },
  {
   "cell_type": "code",
   "execution_count": 16,
   "id": "b8f0c39c",
   "metadata": {
    "execution": {
     "iopub.execute_input": "2023-04-13T15:54:06.343079Z",
     "iopub.status.busy": "2023-04-13T15:54:06.342266Z",
     "iopub.status.idle": "2023-04-13T15:54:06.349202Z",
     "shell.execute_reply": "2023-04-13T15:54:06.347652Z"
    },
    "papermill": {
     "duration": 0.034783,
     "end_time": "2023-04-13T15:54:06.352460",
     "exception": false,
     "start_time": "2023-04-13T15:54:06.317677",
     "status": "completed"
    },
    "tags": []
   },
   "outputs": [],
   "source": [
    "def to_inr_crore(dollar):\n",
    "    inr = dollar * 82.74\n",
    "    return inr/10000000"
   ]
  },
  {
   "cell_type": "code",
   "execution_count": 17,
   "id": "82c0b87f",
   "metadata": {
    "execution": {
     "iopub.execute_input": "2023-04-13T15:54:06.444459Z",
     "iopub.status.busy": "2023-04-13T15:54:06.443099Z",
     "iopub.status.idle": "2023-04-13T15:54:06.451431Z",
     "shell.execute_reply": "2023-04-13T15:54:06.450133Z"
    },
    "papermill": {
     "duration": 0.032458,
     "end_time": "2023-04-13T15:54:06.454187",
     "exception": false,
     "start_time": "2023-04-13T15:54:06.421729",
     "status": "completed"
    },
    "tags": []
   },
   "outputs": [],
   "source": [
    "df['Amount'] = df['Amount'].apply(to_inr_crore)"
   ]
  },
  {
   "cell_type": "code",
   "execution_count": 18,
   "id": "a1aed817",
   "metadata": {
    "execution": {
     "iopub.execute_input": "2023-04-13T15:54:06.495427Z",
     "iopub.status.busy": "2023-04-13T15:54:06.494099Z",
     "iopub.status.idle": "2023-04-13T15:54:06.510873Z",
     "shell.execute_reply": "2023-04-13T15:54:06.509689Z"
    },
    "papermill": {
     "duration": 0.040079,
     "end_time": "2023-04-13T15:54:06.513588",
     "exception": false,
     "start_time": "2023-04-13T15:54:06.473509",
     "status": "completed"
    },
    "tags": []
   },
   "outputs": [
    {
     "data": {
      "text/html": [
       "<div>\n",
       "<style scoped>\n",
       "    .dataframe tbody tr th:only-of-type {\n",
       "        vertical-align: middle;\n",
       "    }\n",
       "\n",
       "    .dataframe tbody tr th {\n",
       "        vertical-align: top;\n",
       "    }\n",
       "\n",
       "    .dataframe thead th {\n",
       "        text-align: right;\n",
       "    }\n",
       "</style>\n",
       "<table border=\"1\" class=\"dataframe\">\n",
       "  <thead>\n",
       "    <tr style=\"text-align: right;\">\n",
       "      <th></th>\n",
       "      <th>Date</th>\n",
       "      <th>Startup</th>\n",
       "      <th>Vertical</th>\n",
       "      <th>Subvertical</th>\n",
       "      <th>City</th>\n",
       "      <th>Investors</th>\n",
       "      <th>Round</th>\n",
       "      <th>Amount</th>\n",
       "    </tr>\n",
       "    <tr>\n",
       "      <th>Sr No</th>\n",
       "      <th></th>\n",
       "      <th></th>\n",
       "      <th></th>\n",
       "      <th></th>\n",
       "      <th></th>\n",
       "      <th></th>\n",
       "      <th></th>\n",
       "      <th></th>\n",
       "    </tr>\n",
       "  </thead>\n",
       "  <tbody>\n",
       "    <tr>\n",
       "      <th>1</th>\n",
       "      <td>09/01/2020</td>\n",
       "      <td>BYJU’S</td>\n",
       "      <td>E-Tech</td>\n",
       "      <td>E-learning</td>\n",
       "      <td>Bengaluru</td>\n",
       "      <td>Tiger Global Management</td>\n",
       "      <td>Private Equity Round</td>\n",
       "      <td>1654.800000</td>\n",
       "    </tr>\n",
       "    <tr>\n",
       "      <th>2</th>\n",
       "      <td>13/01/2020</td>\n",
       "      <td>Shuttl</td>\n",
       "      <td>Transportation</td>\n",
       "      <td>App based shuttle service</td>\n",
       "      <td>Gurgaon</td>\n",
       "      <td>Susquehanna Growth Equity</td>\n",
       "      <td>Series C</td>\n",
       "      <td>66.592412</td>\n",
       "    </tr>\n",
       "    <tr>\n",
       "      <th>3</th>\n",
       "      <td>09/01/2020</td>\n",
       "      <td>Mamaearth</td>\n",
       "      <td>E-commerce</td>\n",
       "      <td>Retailer of baby and toddler products</td>\n",
       "      <td>Bengaluru</td>\n",
       "      <td>Sequoia Capital India</td>\n",
       "      <td>Series B</td>\n",
       "      <td>151.901208</td>\n",
       "    </tr>\n",
       "    <tr>\n",
       "      <th>4</th>\n",
       "      <td>02/01/2020</td>\n",
       "      <td>https://www.wealthbucket.in/</td>\n",
       "      <td>FinTech</td>\n",
       "      <td>Online Investment</td>\n",
       "      <td>New Delhi</td>\n",
       "      <td>Vinod Khatumal</td>\n",
       "      <td>Pre-series A</td>\n",
       "      <td>24.822000</td>\n",
       "    </tr>\n",
       "    <tr>\n",
       "      <th>5</th>\n",
       "      <td>02/01/2020</td>\n",
       "      <td>Fashor</td>\n",
       "      <td>Fashion and Apparel</td>\n",
       "      <td>Embroiled Clothes For Women</td>\n",
       "      <td>Mumbai</td>\n",
       "      <td>Sprout Venture Partners</td>\n",
       "      <td>Seed Round</td>\n",
       "      <td>14.893200</td>\n",
       "    </tr>\n",
       "  </tbody>\n",
       "</table>\n",
       "</div>"
      ],
      "text/plain": [
       "             Date                       Startup             Vertical  \\\n",
       "Sr No                                                                  \n",
       "1      09/01/2020                        BYJU’S               E-Tech   \n",
       "2      13/01/2020                        Shuttl       Transportation   \n",
       "3      09/01/2020                     Mamaearth           E-commerce   \n",
       "4      02/01/2020  https://www.wealthbucket.in/              FinTech   \n",
       "5      02/01/2020                        Fashor  Fashion and Apparel   \n",
       "\n",
       "                                 Subvertical       City  \\\n",
       "Sr No                                                     \n",
       "1                                 E-learning  Bengaluru   \n",
       "2                  App based shuttle service    Gurgaon   \n",
       "3      Retailer of baby and toddler products  Bengaluru   \n",
       "4                          Online Investment  New Delhi   \n",
       "5                Embroiled Clothes For Women     Mumbai   \n",
       "\n",
       "                       Investors                 Round       Amount  \n",
       "Sr No                                                                \n",
       "1        Tiger Global Management  Private Equity Round  1654.800000  \n",
       "2      Susquehanna Growth Equity              Series C    66.592412  \n",
       "3          Sequoia Capital India              Series B   151.901208  \n",
       "4                 Vinod Khatumal          Pre-series A    24.822000  \n",
       "5        Sprout Venture Partners            Seed Round    14.893200  "
      ]
     },
     "execution_count": 18,
     "metadata": {},
     "output_type": "execute_result"
    }
   ],
   "source": [
    "df.head()"
   ]
  },
  {
   "cell_type": "code",
   "execution_count": 19,
   "id": "85b9836e",
   "metadata": {
    "execution": {
     "iopub.execute_input": "2023-04-13T15:54:06.555997Z",
     "iopub.status.busy": "2023-04-13T15:54:06.554768Z",
     "iopub.status.idle": "2023-04-13T15:54:06.564396Z",
     "shell.execute_reply": "2023-04-13T15:54:06.563003Z"
    },
    "papermill": {
     "duration": 0.03382,
     "end_time": "2023-04-13T15:54:06.567276",
     "exception": false,
     "start_time": "2023-04-13T15:54:06.533456",
     "status": "completed"
    },
    "tags": []
   },
   "outputs": [],
   "source": [
    "df['Date'] = df['Date'].str.replace('05/072018','05/07/2018')"
   ]
  },
  {
   "cell_type": "code",
   "execution_count": 20,
   "id": "2cd6b982",
   "metadata": {
    "execution": {
     "iopub.execute_input": "2023-04-13T15:54:06.609429Z",
     "iopub.status.busy": "2023-04-13T15:54:06.608166Z",
     "iopub.status.idle": "2023-04-13T15:54:06.621744Z",
     "shell.execute_reply": "2023-04-13T15:54:06.620434Z"
    },
    "papermill": {
     "duration": 0.037791,
     "end_time": "2023-04-13T15:54:06.624773",
     "exception": false,
     "start_time": "2023-04-13T15:54:06.586982",
     "status": "completed"
    },
    "tags": []
   },
   "outputs": [],
   "source": [
    "df['Date'] = pd.to_datetime(df['Date'], dayfirst = True, errors = 'coerce')"
   ]
  },
  {
   "cell_type": "code",
   "execution_count": 21,
   "id": "4afc8f5e",
   "metadata": {
    "execution": {
     "iopub.execute_input": "2023-04-13T15:54:06.667382Z",
     "iopub.status.busy": "2023-04-13T15:54:06.666494Z",
     "iopub.status.idle": "2023-04-13T15:54:06.677053Z",
     "shell.execute_reply": "2023-04-13T15:54:06.676137Z"
    },
    "papermill": {
     "duration": 0.034953,
     "end_time": "2023-04-13T15:54:06.679485",
     "exception": false,
     "start_time": "2023-04-13T15:54:06.644532",
     "status": "completed"
    },
    "tags": []
   },
   "outputs": [
    {
     "data": {
      "text/plain": [
       "Sr No\n",
       "1       1.0\n",
       "2       1.0\n",
       "3       1.0\n",
       "4       1.0\n",
       "5       1.0\n",
       "       ... \n",
       "3040    1.0\n",
       "3041    1.0\n",
       "3042    1.0\n",
       "3043    1.0\n",
       "3044    1.0\n",
       "Name: Date, Length: 3029, dtype: float64"
      ]
     },
     "execution_count": 21,
     "metadata": {},
     "output_type": "execute_result"
    }
   ],
   "source": [
    "df['Date'].dt.month"
   ]
  },
  {
   "cell_type": "code",
   "execution_count": 22,
   "id": "36f139d6",
   "metadata": {
    "execution": {
     "iopub.execute_input": "2023-04-13T15:54:06.721532Z",
     "iopub.status.busy": "2023-04-13T15:54:06.720791Z",
     "iopub.status.idle": "2023-04-13T15:54:06.730533Z",
     "shell.execute_reply": "2023-04-13T15:54:06.729111Z"
    },
    "papermill": {
     "duration": 0.03391,
     "end_time": "2023-04-13T15:54:06.733315",
     "exception": false,
     "start_time": "2023-04-13T15:54:06.699405",
     "status": "completed"
    },
    "tags": []
   },
   "outputs": [
    {
     "data": {
      "text/plain": [
       "Sr No\n",
       "1       2020.0\n",
       "2       2020.0\n",
       "3       2020.0\n",
       "4       2020.0\n",
       "5       2020.0\n",
       "         ...  \n",
       "3040    2015.0\n",
       "3041    2015.0\n",
       "3042    2015.0\n",
       "3043    2015.0\n",
       "3044    2015.0\n",
       "Name: Date, Length: 3029, dtype: float64"
      ]
     },
     "execution_count": 22,
     "metadata": {},
     "output_type": "execute_result"
    }
   ],
   "source": [
    "df['Date'].dt.year"
   ]
  },
  {
   "cell_type": "code",
   "execution_count": 23,
   "id": "536d2ef4",
   "metadata": {
    "execution": {
     "iopub.execute_input": "2023-04-13T15:54:06.886545Z",
     "iopub.status.busy": "2023-04-13T15:54:06.885690Z",
     "iopub.status.idle": "2023-04-13T15:54:06.898466Z",
     "shell.execute_reply": "2023-04-13T15:54:06.897104Z"
    },
    "papermill": {
     "duration": 0.03765,
     "end_time": "2023-04-13T15:54:06.901606",
     "exception": false,
     "start_time": "2023-04-13T15:54:06.863956",
     "status": "completed"
    },
    "tags": []
   },
   "outputs": [],
   "source": [
    "df = df.dropna(subset=['Date','Startup','Vertical','City','Investors','Round','Amount'])"
   ]
  },
  {
   "cell_type": "code",
   "execution_count": 24,
   "id": "194d9f22",
   "metadata": {
    "execution": {
     "iopub.execute_input": "2023-04-13T15:54:06.944614Z",
     "iopub.status.busy": "2023-04-13T15:54:06.944153Z",
     "iopub.status.idle": "2023-04-13T15:54:06.960065Z",
     "shell.execute_reply": "2023-04-13T15:54:06.958397Z"
    },
    "papermill": {
     "duration": 0.040124,
     "end_time": "2023-04-13T15:54:06.962547",
     "exception": false,
     "start_time": "2023-04-13T15:54:06.922423",
     "status": "completed"
    },
    "tags": []
   },
   "outputs": [
    {
     "name": "stdout",
     "output_type": "stream",
     "text": [
      "<class 'pandas.core.frame.DataFrame'>\n",
      "Int64Index: 2846 entries, 1 to 2873\n",
      "Data columns (total 8 columns):\n",
      " #   Column       Non-Null Count  Dtype         \n",
      "---  ------       --------------  -----         \n",
      " 0   Date         2846 non-null   datetime64[ns]\n",
      " 1   Startup      2846 non-null   object        \n",
      " 2   Vertical     2846 non-null   object        \n",
      " 3   Subvertical  2096 non-null   object        \n",
      " 4   City         2846 non-null   object        \n",
      " 5   Investors    2846 non-null   object        \n",
      " 6   Round        2846 non-null   object        \n",
      " 7   Amount       2846 non-null   float64       \n",
      "dtypes: datetime64[ns](1), float64(1), object(6)\n",
      "memory usage: 200.1+ KB\n"
     ]
    }
   ],
   "source": [
    "df.info()"
   ]
  },
  {
   "cell_type": "code",
   "execution_count": 25,
   "id": "533f28d8",
   "metadata": {
    "execution": {
     "iopub.execute_input": "2023-04-13T15:54:07.006322Z",
     "iopub.status.busy": "2023-04-13T15:54:07.004556Z",
     "iopub.status.idle": "2023-04-13T15:54:07.027884Z",
     "shell.execute_reply": "2023-04-13T15:54:07.026285Z"
    },
    "papermill": {
     "duration": 0.04849,
     "end_time": "2023-04-13T15:54:07.031422",
     "exception": false,
     "start_time": "2023-04-13T15:54:06.982932",
     "status": "completed"
    },
    "tags": []
   },
   "outputs": [],
   "source": [
    "df[(df['Vertical'] == 'eCommerce') | (df['Vertical'] == 'ECommerce') | (df['Vertical'] == 'Ecommerce')] = 'E-Commerce'\n",
    "df[df['City'] == 'Bengaluru'] = 'Bangalore'"
   ]
  },
  {
   "cell_type": "code",
   "execution_count": 26,
   "id": "a86487e1",
   "metadata": {
    "execution": {
     "iopub.execute_input": "2023-04-13T15:54:07.473216Z",
     "iopub.status.busy": "2023-04-13T15:54:07.472496Z",
     "iopub.status.idle": "2023-04-13T15:54:07.552019Z",
     "shell.execute_reply": "2023-04-13T15:54:07.550618Z"
    },
    "papermill": {
     "duration": 0.105502,
     "end_time": "2023-04-13T15:54:07.554557",
     "exception": false,
     "start_time": "2023-04-13T15:54:07.449055",
     "status": "completed"
    },
    "tags": []
   },
   "outputs": [],
   "source": [
    "df = df.drop(columns=['Subvertical'])"
   ]
  },
  {
   "cell_type": "markdown",
   "id": "71054c5b",
   "metadata": {},
   "source": [
    "# Data Visualization"
   ]
  },
  {
   "cell_type": "code",
   "execution_count": 72,
   "id": "642cf8e7",
   "metadata": {},
   "outputs": [],
   "source": [
    "investor = \"SoftBank Vision Fund\"\n",
    "investor_dup = \" SoftBank Vision Fund\""
   ]
  },
  {
   "cell_type": "code",
   "execution_count": 73,
   "id": "e5e72c12",
   "metadata": {
    "execution": {
     "iopub.execute_input": "2023-04-13T15:54:08.098256Z",
     "iopub.status.busy": "2023-04-13T15:54:08.097814Z",
     "iopub.status.idle": "2023-04-13T15:54:08.361390Z",
     "shell.execute_reply": "2023-04-13T15:54:08.360044Z"
    },
    "papermill": {
     "duration": 0.294374,
     "end_time": "2023-04-13T15:54:08.365021",
     "exception": false,
     "start_time": "2023-04-13T15:54:08.070647",
     "status": "completed"
    },
    "tags": []
   },
   "outputs": [
    {
     "data": {
      "image/png": "[encoded data removed]",
      "text/plain": [
       "<Figure size 1000x800 with 1 Axes>"
      ]
     },
     "metadata": {},
     "output_type": "display_data"
    }
   ],
   "source": [
    "data = df[(df['Investors'].str.contains(investor)) | (df['Investors'].str.contains(investor_dup))].groupby('City')['Amount'].sum()\n",
    " \n",
    "sizes = data\n",
    "labels = data.index\n",
    "\n",
    "plt.figure(figsize=(10,8))\n",
    "\n",
    "plt.title('City')\n",
    "\n",
    "plt.pie(sizes)\n",
    "\n",
    "percentages = [f'{label} - {size/sum(sizes)*100:.1f}%' for label, size in zip(labels, sizes)]\n",
    "\n",
    "plt.legend(percentages, loc='upper left', bbox_to_anchor=(1,1))\n",
    "\n",
    "plt.show()"
   ]
  },
  {
   "cell_type": "code",
   "execution_count": 74,
   "id": "ac5daff1",
   "metadata": {
    "execution": {
     "iopub.execute_input": "2023-04-13T15:54:08.436072Z",
     "iopub.status.busy": "2023-04-13T15:54:08.435652Z",
     "iopub.status.idle": "2023-04-13T15:54:08.571248Z",
     "shell.execute_reply": "2023-04-13T15:54:08.569579Z"
    },
    "papermill": {
     "duration": 0.167436,
     "end_time": "2023-04-13T15:54:08.575620",
     "exception": false,
     "start_time": "2023-04-13T15:54:08.408184",
     "status": "completed"
    },
    "tags": []
   },
   "outputs": [
    {
     "data": {
      "image/png": "[encoded data removed]",
      "text/plain": [
       "<Figure size 1000x800 with 1 Axes>"
      ]
     },
     "metadata": {},
     "output_type": "display_data"
    }
   ],
   "source": [
    "data = df[(df['Investors'].str.contains(investor)) | (df['Investors'].str.contains(investor_dup))].groupby('Round')['Amount'].sum()\n",
    "\n",
    "sizes = data\n",
    "labels = data.index\n",
    "\n",
    "plt.figure(figsize=(10,8))\n",
    "\n",
    "plt.title('Rounds')\n",
    "\n",
    "plt.pie(sizes)\n",
    "\n",
    "percentages = [f'{label} - {size/sum(sizes)*100:.1f}%' for label, size in zip(labels, sizes)]\n",
    "\n",
    "plt.legend(percentages, loc='upper left', bbox_to_anchor=(1,1))\n",
    "\n",
    "plt.show()"
   ]
  },
  {
   "cell_type": "code",
   "execution_count": 75,
   "id": "2536a791",
   "metadata": {
    "execution": {
     "iopub.execute_input": "2023-04-13T15:54:08.724473Z",
     "iopub.status.busy": "2023-04-13T15:54:08.723034Z",
     "iopub.status.idle": "2023-04-13T15:54:08.948900Z",
     "shell.execute_reply": "2023-04-13T15:54:08.947983Z"
    },
    "papermill": {
     "duration": 0.256074,
     "end_time": "2023-04-13T15:54:08.951499",
     "exception": false,
     "start_time": "2023-04-13T15:54:08.695425",
     "status": "completed"
    },
    "tags": []
   },
   "outputs": [
    {
     "data": {
      "image/png": "[encoded data removed]",
      "text/plain": [
       "<Figure size 1000x600 with 1 Axes>"
      ]
     },
     "metadata": {},
     "output_type": "display_data"
    }
   ],
   "source": [
    "df['Date'] = pd.to_datetime(df['Date'], errors='coerce')\n",
    "\n",
    "grouped_data = df[\n",
    "    (df['Investors'].str.contains(investor)) | \n",
    "    (df['Investors'].str.contains(investor_dup))\n",
    "].groupby(df['Date'].dt.year)['Amount'].sum()\n",
    "\n",
    "plt.figure(figsize=(10,6))\n",
    "plt.plot(grouped_data.index, grouped_data.values, marker='o', linestyle='-')\n",
    "plt.title('Yearly investments')\n",
    "plt.xlabel('Year')\n",
    "plt.ylabel('Sum of Amounts In Crores')\n",
    "plt.grid(True)\n",
    "plt.tight_layout()\n",
    "\n",
    "plt.show()"
   ]
  },
  {
   "cell_type": "code",
   "execution_count": 76,
   "id": "21c12846",
   "metadata": {},
   "outputs": [
    {
     "data": {
      "image/png": "[encoded data removed]",
      "text/plain": [
       "<Figure size 1000x800 with 1 Axes>"
      ]
     },
     "metadata": {},
     "output_type": "display_data"
    }
   ],
   "source": [
    "data = df[(df['Investors'].str.contains(investor)) | (df['Investors'].str.contains(investor_dup))].groupby('Vertical')['Amount'].sum()\n",
    "\n",
    "sizes = data\n",
    "labels = data.index\n",
    "\n",
    "plt.figure(figsize=(10,8))\n",
    "\n",
    "plt.title('Industry')\n",
    "\n",
    "plt.pie(sizes)\n",
    "\n",
    "percentages = [f'{label} - {size/sum(sizes)*100:.2f}%' for label, size in zip(labels, sizes)]\n",
    "\n",
    "plt.legend(percentages, loc='upper left', bbox_to_anchor=(1,1))\n",
    "\n",
    "plt.show()"
   ]
  },
  {
   "cell_type": "code",
   "execution_count": 71,
   "id": "e26022ea",
   "metadata": {},
   "outputs": [
    {
     "name": "stdout",
     "output_type": "stream",
     "text": [
      "Investors\n",
      "Vijay Shekhar Sharma                                                                                             8275.241100\n",
      "Steadview Capital and existing investors                                                                         5791.800000\n",
      "Alibaba Group, Ant Financial                                                                                     5626.320000\n",
      "Undisclosed                                                                                                      5273.607249\n",
      "SoftBank Vision Fund                                                                                             4393.494000\n",
      "Alibaba, Foxconn, Softbank                                                                                       4137.000000\n",
      "Baillie Gifford, Falcon Edge Capital, Tiger Global, SoftBank Group, DST Global, Didi Kuaidi                      4137.000000\n",
      "Bennett Coleman and Company Ltd (BCCL)                                                                           3723.300000\n",
      "DST Global, Steadview Capital, Tiger Global, Accel Partners & Others                                             3309.600000\n",
      "SoftBank Group Corp                                                                                              2730.420000\n",
      "Undisclosed investors                                                                                            2384.037264\n",
      "Matrix Partners, Stellaris Venture Partners, Kalaari Capital                                                     2341.542000\n",
      "SIMI Pacific Pte                                                                                                 2151.240000\n",
      "SoftBank Vision Fund, Lightspeed Venture Partners, Sequoia Capital India Advisors, Greenoaks Capital Partners    2068.500000\n",
      "SoftBank Group, Sequoia Capital India, Lightspeed Venture Partners, Greenoaks Capital, Hero Enterprise           2068.500000\n",
      "Warburg Pincus                                                                                                   2002.308000\n",
      "Falcon Edge Capital, NY based Hedge Fund, Tiger Global, Softbank                                                 1861.650000\n",
      "Amour Infrastructure                                                                                             1820.280000\n",
      "SoftBank Vision Fund & Info Edge (India) Ltd                                                                     1654.800000\n",
      "Ant Financials                                                                                                   1654.800000\n",
      "Name: Amount, dtype: float64\n"
     ]
    }
   ],
   "source": [
    "df['Amount'] = pd.to_numeric(df['Amount'], errors='coerce')\n",
    "df.dropna(subset=['Amount'], inplace=True)\n",
    "top_investors = df.groupby('Investors')['Amount'].sum().sort_values(ascending=False).head(20)\n",
    "print(top_investors)"
   ]
  },
  {
   "cell_type": "code",
   "execution_count": null,
   "id": "1fd1596a",
   "metadata": {},
   "outputs": [],
   "source": []
  }
 ],
 "metadata": {
  "kernelspec": {
   "display_name": "Python 3 (ipykernel)",
   "language": "python",
   "name": "python3"
  },
  "language_info": {
   "codemirror_mode": {
    "name": "ipython",
    "version": 3
   },
   "file_extension": ".py",
   "mimetype": "text/x-python",
   "name": "python",
   "nbconvert_exporter": "python",
   "pygments_lexer": "ipython3",
   "version": "3.11.3"
  },
  "papermill": {
   "default_parameters": {},
   "duration": 16.183653,
   "end_time": "2023-04-13T15:54:10.504719",
   "environment_variables": {},
   "exception": null,
   "input_path": "__notebook__.ipynb",
   "output_path": "__notebook__.ipynb",
   "parameters": {},
   "start_time": "2023-04-13T15:53:54.321066",
   "version": "2.4.0"
  }
 },
 "nbformat": 4,
 "nbformat_minor": 5
}
